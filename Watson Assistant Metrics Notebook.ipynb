{
 "cells": [
  {
   "cell_type": "markdown",
   "metadata": {},
   "source": [
    "# Watson Assistant Performance Metrics [Client Name]\n",
    "\n",
    "This notebook performs analytics on the user log records of Watson Assistant (including Voice Interaction). A variety of key business metrics (listed below in Table of Contents) are calculated and displayed in the notebook. The data and metrics are also saved to CSV and can be used for building visualizations in a Cognos Dashboard in Watson Studio. \n",
    "\n",
    "Logs can also be exported to spreadsheet in Section 3.0 to perform blind testing in order to improve the performance of your virtual agent.\n",
    "\n",
    "### Table of Contents\n",
    "* [1.0 Configuration and Log Collection](#config)\n",
    "* [2.0 Key Performance Metrics](#performance-metrics)\n",
    "    * [2.1 Core Metrics](#core-metrics)\n",
    "        * [2.1.1 Abandonment at Greeting](#abandonment)\n",
    "        * [2.1.2 Coverage Metric](#coverage-metric)\n",
    "        * [2.1.3 Escalation Metric](#escalation-metric)\n",
    "        * [2.1.4 Active Users](active-users)\n",
    "        * [2.1.5 Top Intents & Average Confidence Scores](#top-intents-scores)\n",
    "        * [2.1.6 Top Entities](#top-entities)\n",
    "        * [2.1.7 Optional: Bilingual Assistants](#bilingual-assistants)\n",
    "    * [2.2 Voice Interaction Metrics](#voice-metrics)\n",
    "        * [2.2.1 Containment Rate](#containment-rate)\n",
    "        * [2.2.2 Active Callers](#active-callers)\n",
    "        * [2.2.3 SMS Sent](#sms-sent)\n",
    "    * [2.3 Custom Metrics](#custom-metrics)\n",
    "        * [2.3.1 Context Variable Count](#context-variable-count)\n",
    "        * [2.3.2 Response Mentions](#response-mentions)\n",
    "    * [2.4 Export to CSV](#export-to-csv)\n",
    "* [3.0 Collecting data for blind testing or new ground truth](#blind-testing)"
   ]
  },
  {
   "cell_type": "markdown",
   "metadata": {},
   "source": [
    "## Housekeeping <a class=\"anchor\" id=\"housekeeping\"></a>\n",
    "This section will import libraries and dependencies for this notebook. \n",
    "\n",
    "**Action Required:** \n",
    "- Update the `project_id` and `project_access_token` in order to access your data assets.\n",
    "- Upload `getAllLogs.py` and `extractConversations.py` into your project's assets. They can be found at https://github.com/cognitive-catalyst/WA-Testing-Tool/tree/master/log_analytics"
   ]
  },
  {
   "cell_type": "code",
   "execution_count": null,
   "metadata": {},
   "outputs": [],
   "source": [
    "# @hidden_cell\n",
    "# The project token is an authorization token that is used to access project resources like data sources, connections, and used by platform APIs.\n",
    "from project_lib import Project\n",
    "project = Project(project_id='XXXXXXXXXXXXXX', project_access_token='XXXXXXXXXXXXXX')\n",
    "pc = project.project_context\n"
   ]
  },
  {
   "cell_type": "code",
   "execution_count": null,
   "metadata": {},
   "outputs": [],
   "source": [
    "# Import dependencies. Ensure these are loaded into your Studio assets.\n",
    "fobj = open(\"getAllLogs.py\", \"wb\")\n",
    "fobj.write(project.get_file(\"getAllLogs.py\").read()) \n",
    "fobj.close()\n",
    "\n",
    "fobj = open(\"extractConversations.py\", \"wb\")\n",
    "fobj.write(project.get_file(\"extractConversations.py\").read()) \n",
    "fobj.close()"
   ]
  },
  {
   "cell_type": "code",
   "execution_count": null,
   "metadata": {},
   "outputs": [],
   "source": [
    "%load_ext autoreload\n",
    "%autoreload 2\n",
    "\n",
    "import warnings\n",
    "warnings.simplefilter(\"ignore\")\n",
    "\n",
    "!pip install ibm-watson\n",
    "!pip install --user --upgrade \"plotly_express==0.4.0\";\n",
    "!pip install --user --upgrade \"matplotlib==3.2.1\";\n",
    "!pip install squarify\n",
    "\n",
    "import json\n",
    "import pandas as pd\n",
    "import getAllLogs\n",
    "import extractConversations\n",
    "import plotly.express as px\n",
    "import plotly.graph_objects as go\n",
    "import seaborn as sns\n",
    "import matplotlib.pyplot as plt "
   ]
  },
  {
   "cell_type": "code",
   "execution_count": null,
   "metadata": {},
   "outputs": [],
   "source": [
    "# Custom functions to re-use code throughout notebook\n",
    "def turn_dict_to_df(df,col_names):\n",
    "    df = pd.DataFrame.from_dict(df)\n",
    "    df.reset_index(level=0, inplace=True)\n",
    "    df.columns = col_names\n",
    "    return df"
   ]
  },
  {
   "cell_type": "markdown",
   "metadata": {},
   "source": [
    "## 1.0 Configuration and log collection <a class=\"anchor\" id=\"config\"></a>\n",
    "The next few cells require some configuration.  Review the variables and update them for your specific assistant.  The comments in the cells guide you in the configuration."
   ]
  },
  {
   "cell_type": "code",
   "execution_count": null,
   "metadata": {},
   "outputs": [],
   "source": [
    "# Action Required: Define the customer name. This prefix will be used for saving CSV & JSON files.\n",
    "custName = 'XXXXXXX'"
   ]
  },
  {
   "cell_type": "markdown",
   "metadata": {},
   "source": [
    "### 1.1 Option One: Retrieve logs from the Watson Assistant instance\n",
    "This option will allow you to retrieve the logs from the Assistant API.\n",
    "\n",
    "- **For Chat** solutions using an Assistant layer (e.g. web chat), set `workspace_id=None` and provide `assistant_id` filter\n",
    "- **For Voice Interaction** solutions, define `workspace_id` and leave `assistant_id` filter blank/commented out\n",
    "\n",
    "Update `log_filter` for any other filters, e.g. update `response_timestamp` if you wish to limit the amount of data retrieved."
   ]
  },
  {
   "cell_type": "code",
   "execution_count": null,
   "metadata": {},
   "outputs": [],
   "source": [
    "# Extract logs from your assistant. Comment entire cell out if you are using existing logs in next step.\n",
    "\n",
    "# API, URL,and workspace ID are extractable from \"View API Details page\"\n",
    "iam_apikey='XXXXXXXXXXXXXX' # Update this\n",
    "\n",
    "#url pattern depends on region and when it was created (update one to match your instance)\n",
    "url=\"https://api.us-south.assistant.watson.cloud.ibm.com\"\n",
    "#url=\"https://api.us-east.assistant.watson.cloud.ibm.com\"\n",
    "\n",
    "workspace_id='XXXXXXXXXXXXXX' # Update or set to None without quotes\n",
    "\n",
    "# Filter API is described at: https://cloud.ibm.com/docs/assistant?topic=assistant-filter-reference#filter-reference\n",
    "log_filter=\"language::en,response_timestamp>=2020-05-15\" \\\n",
    "# +\",request.context.system.assistant_id::<<assistant_id>>\" # If using this, uncomment and replace <<assistant_id>>\n",
    "\n",
    "#Change the number of logs retrieved, default settings will return 100,000 logs (200 pages of 500)\n",
    "page_size_limit=500\n",
    "page_num_limit=200\n",
    "\n",
    "#WA API version\n",
    "version=\"2018-09-20\" \n",
    "\n",
    "rawLogsJson = getAllLogs.getLogs(iam_apikey, url, workspace_id, log_filter, page_size_limit, page_num_limit, version)\n",
    "rawLogsPath= custName + \"_logs.json\"\n",
    "\n",
    "# getAllLogs.writeLogs(rawLogsJson, rawLogsPath) # Saves the logs locally\n",
    "project.save_data(file_name = rawLogsPath,data = json.dumps(rawLogsJson),overwrite=True); # Saves the logs in Studio/COS\n",
    "print('\\nSaved log data to {}'.format(rawLogsPath))"
   ]
  },
  {
   "cell_type": "markdown",
   "metadata": {},
   "source": [
    "### 1.2 Option Two: Load logs from JSON file\n",
    "If you have previously saved the JSON file, you can uncomment this section to load the logs. Otherwise, comment this section out and continue."
   ]
  },
  {
   "cell_type": "code",
   "execution_count": null,
   "metadata": {},
   "outputs": [],
   "source": [
    "# #If you have previously stored your logs on the file system, you can reload them here by uncommenting these lines\n",
    "# rawLogsPath= custName+\"_logs.json\"\n",
    "# rawLogsJson = extractConversations.readLogs(rawLogsPath)"
   ]
  },
  {
   "cell_type": "markdown",
   "metadata": {},
   "source": [
    "### 1.3 Format logs\n",
    "Update these fields by following the instructions in the comments."
   ]
  },
  {
   "cell_type": "code",
   "execution_count": null,
   "metadata": {},
   "outputs": [],
   "source": [
    "# Define the conversation corrrelation field name for your Watson Assistant records.\n",
    "# Provide the field name as it appears in the log payload (default is 'response.context.conversation_id')\n",
    "# For a single-skill assistant use 'response.context.conversation_id'\n",
    "# For a Voice Gateway/Voice Agent assistant use 'request.context.vgwSessionID'\n",
    "# For a multi-skill assistant you will need to provide your own key\n",
    "primaryLogKey = \"response.context.conversation_id\"\n",
    "\n",
    "# Name of the correlating key as it appears in the data frame columns (remove 'response.context.')\n",
    "conversationKey='conversation_id'\n",
    "\n",
    "# Optionally provide a comma-separated list of custom fields you want to extract, in addition to the default fields\n",
    "#customFieldNames = \"response.context.STT_CONFIDENCE,response.context.action,response.context.vgwBargeInOccurred\"\n",
    "customFieldNames = \"response.context.vgwSIPFromURI,response.context.vgwSessionID,request.context.vgwSMSFailureReason,\\\n",
    "request.context.vgwSMSUserPhoneNumber,response.context.user_record.calling_about_child,response.context.user_record.covidExposure,\\\n",
    "response.context.user_record.covidSymptoms,response.output.vgwAction.parameters.transferTarget,response.context.language,\\\n",
    "response.context.metadata.user_id\"\n",
    "\n",
    "\n",
    "allLogsDF = extractConversations.extractConversationData(rawLogsJson, primaryLogKey, customFieldNames)\n",
    "conversationsGroup = allLogsDF.groupby(conversationKey,as_index=False)\n",
    "\n",
    "print(\"Total log events:\",len(allLogsDF))\n",
    "allLogsDF.head()"
   ]
  },
  {
   "cell_type": "code",
   "execution_count": null,
   "metadata": {},
   "outputs": [],
   "source": [
    "allLogsDF.columns"
   ]
  },
  {
   "cell_type": "code",
   "execution_count": null,
   "metadata": {},
   "outputs": [],
   "source": [
    "# Splits the response_timestamp into month, day, and year fields that can be used for Cognos visualizations\n",
    "allLogsDF[\"full_date\"] = pd.to_datetime(allLogsDF[\"response_timestamp\"])\n",
    "allLogsDF['month'] = allLogsDF['full_date'].dt.month\n",
    "allLogsDF['year'] = allLogsDF['full_date'].dt.year\n",
    "allLogsDF['day'] = allLogsDF['full_date'].dt.day"
   ]
  },
  {
   "cell_type": "markdown",
   "metadata": {},
   "source": [
    "# 2.0 Key Performance Metrics <a class=\"anchor\" id=\"performance-metrics\"></a>\n",
    "The notebook will calculate various performance metrics including `coverage` and `containment`. Basic volume metrics will also be provided.\n",
    "\n",
    "- **2.1 Core Metrics:** These are conversational metrics that apply to both chat and voice solutions.\n",
    "- **2.2 Voice Interaction Metrics:** Additional measurements for voice solutions including phone calls, call transfers, unique caller IDs, etc.\n",
    "- **2.3 Custom metrics:** Other ad-hoc analysis. Requires knowledge of Python.\n",
    "- **2.4 Export to CSV** Save total logs, key metrics, and uncovered messages to CSV"
   ]
  },
  {
   "cell_type": "markdown",
   "metadata": {},
   "source": [
    "## 2.1 Core Metrics <a class=\"anchor\" id=\"core-metrics\"></a>\n",
    "These metrics apply to all Watson Assistant solutions. For voice solutions, additional metrics are in the next section."
   ]
  },
  {
   "cell_type": "code",
   "execution_count": null,
   "metadata": {},
   "outputs": [],
   "source": [
    "# Let's define a dict{} that we will send to CSV for use in Watson Studio Cognos Dashboard\n",
    "metrics_dict = {}\n",
    "\n",
    "# These should match the count in the Watson Assistant Analytics tooling.\n",
    "totalConvs = len(allLogsDF[conversationKey].unique())\n",
    "print(\"Total messages:\", len(allLogsDF))\n",
    "print(\"Total conversations:\", totalConvs)"
   ]
  },
  {
   "cell_type": "markdown",
   "metadata": {},
   "source": [
    "### 2.1.1 Abandonment at Greeting <a class=\"anchor\" id=\"abandonment\"></a>\n",
    "- Log events with a blank `input.text` are the greeting messages. This should equal total conversations.\n",
    "- Filtering out these messages will reveal how many conversations abandoned before the first user utterance."
   ]
  },
  {
   "cell_type": "code",
   "execution_count": null,
   "metadata": {},
   "outputs": [],
   "source": [
    "# Filter out blank inputs and vgwHangUp tags in log events\n",
    "filteredLogsDF = allLogsDF[allLogsDF['input.text'] != \"\"]\n",
    "filteredLogsDF = filteredLogsDF[filteredLogsDF['input.text'] != 'vgwHangUp'] \n",
    "filteredLogsDF = filteredLogsDF[filteredLogsDF['input.text'] != 'vgwPostResponseTimeout'] \n",
    "\n",
    "filteredMessages = len(filteredLogsDF)\n",
    "filteredConvs = len(filteredLogsDF[conversationKey].unique())\n",
    "abandonedGreeting = (totalConvs - filteredConvs)\n",
    "metrics_dict['abandonedGreeting'] = [abandonedGreeting] # Put into metrics dict\n",
    "\n",
    "print(\"Total messages:\", filteredMessages)\n",
    "print(\"Total conversations:\", filteredConvs)\n",
    "print(\"Abandoned conversations:\", abandonedGreeting)"
   ]
  },
  {
   "cell_type": "markdown",
   "metadata": {},
   "source": [
    "### 2.1.2 Coverage Metric <a class=\"anchor\" id=\"coverage-metric\"></a>\n",
    "Coverage is the measurement of the portion of total user messages that your assistant is attempting to respond to. \n",
    "\n",
    "- **Action Required:** Define the node_ids in `anything_else_nodes` list that represent any responses for uncovered messages.\n",
    "- Coverage is then calculated by taking the number of visits to these nodes divided by total messages and subtracting one. \n",
    "- This metric filters out Voice Gateway actions such as `vgwHangUp`"
   ]
  },
  {
   "cell_type": "code",
   "execution_count": null,
   "metadata": {},
   "outputs": [],
   "source": [
    "# Define the node_id for anything_else and other uncovered nodes\n",
    "anything_else_nodes = ['XXXXXXXXXXXXXX'] \n",
    "\n",
    "for row in filteredLogsDF.itertuples():\n",
    "    nodes = row.nodes_visited\n",
    "    for node in nodes:\n",
    "        if node in anything_else_nodes:\n",
    "            anything_else_nodes.append(row.Index)\n",
    "            \n",
    "uncoveredDF = filteredLogsDF[filteredLogsDF.index.isin(anything_else_nodes)]\n",
    "\n",
    "print(\"Uncovered messages:\",len(uncoveredDF))\n",
    "coverageMetric = 1-len(uncoveredDF)/filteredMessages\n",
    "metrics_dict['coverage'] = [coverageMetric] # Put into metrics dict\n",
    "print(\"Coverage metric is\",'{:.0%}'.format(coverageMetric))\n",
    "\n",
    "uncoveredDF = uncoveredDF[['input.text','output.text','intent','intent_confidence']]\n",
    "\n",
    "uncoveredDF.to_csv(custName + \"_uncovered_msgs.csv\",index=False, header=['Utterance','Response','Intent','Confidence'])\n",
    "\n",
    "uncoveredDF.head(10).sort_values('intent_confidence',ascending=False)"
   ]
  },
  {
   "cell_type": "markdown",
   "metadata": {},
   "source": [
    "### 2.1.3 Escalation Metric <a class=\"anchor\" id=\"escalation-metric\"></a>\n",
    "Escalation is defined as responding with a method to contact a live person (e.g. pointing to a 1-800 number). \n",
    "- **Action Required:** Define the node_id for where your assistant responds to an escalation request (e.g. `#General-Agent-Escalation`)\n",
    "- For Voice Interaction solutions, we calculate `call containment` in the next section by counting the number of call transfers in the logs. "
   ]
  },
  {
   "cell_type": "code",
   "execution_count": null,
   "metadata": {},
   "outputs": [],
   "source": [
    "# Define the escalation node\n",
    "escalation_node = \"XXXXXXXXXXXXXX\" \n",
    "node_visits_escalated = allLogsDF[[escalation_node in x for x in allLogsDF['nodes_visited']]]\n",
    "\n",
    "print(\"Total visits to escalation node:\",len(node_visits_escalated))\n",
    "\n",
    "escalationMetric = len(node_visits_escalated)/filteredMessages\n",
    "metrics_dict['escalation'] = [escalationMetric] # Put into metrics dict\n",
    "print(\"\\nEscalation metric is\",'{:.0%}'.format(escalationMetric))"
   ]
  },
  {
   "cell_type": "markdown",
   "metadata": {},
   "source": [
    "### 2.1.4 Active Users <a class=\"anchor\" id=\"active-users\"></a>\n",
    "How many unique users used the assistant?"
   ]
  },
  {
   "cell_type": "code",
   "execution_count": null,
   "metadata": {},
   "outputs": [],
   "source": [
    "uniqueUsers = allLogsDF[\"metadata.user_id\"].nunique()\n",
    "metrics_dict['uniqueUsers'] = [uniqueUsers] # Put into metrics dict\n",
    "print('Total unique users: {}'.format(uniqueUsers))"
   ]
  },
  {
   "cell_type": "markdown",
   "metadata": {},
   "source": [
    "### 2.1.5 Top Intents & Average Confidence Scores <a class=\"anchor\" id=\"top-intents-scores\"></a>"
   ]
  },
  {
   "cell_type": "code",
   "execution_count": null,
   "metadata": {},
   "outputs": [],
   "source": [
    "# Using pandas aggregators to count how often each intent is selected and its average confidence\n",
    "intentsDF = filteredLogsDF.groupby('intent',as_index=False).agg({\n",
    "   'input.text': ['count'], \n",
    "   'intent_confidence': ['mean']\n",
    "})\n",
    "\n",
    "intentsDF.columns=[\"intent\",\"count\",\"confidence\"] #Flatten the column headers for ease of use\n",
    "\n",
    "intentsDF = intentsDF[intentsDF['intent'] !=''] # Remove blanks, usually VGW tags + greetings\n",
    "intentsDF = intentsDF.sort_values('count',ascending=False)\n",
    "intentsDF.head(5) # If you want specific number shown, edit inside head(). If you want to show all, remove head() "
   ]
  },
  {
   "cell_type": "code",
   "execution_count": null,
   "metadata": {},
   "outputs": [],
   "source": [
    "ax = sns.barplot(x=\"count\", y=\"intent\", data=intentsDF.head(),orient='h',palette=\"Blues_d\").set_title('Top Intents')"
   ]
  },
  {
   "cell_type": "markdown",
   "metadata": {},
   "source": [
    "### 2.1.6 Top Entities (Skip for now) <a class=\"anchor\" id=\"top-entities\"></a>"
   ]
  },
  {
   "cell_type": "code",
   "execution_count": null,
   "metadata": {},
   "outputs": [],
   "source": [
    "entityDF = allLogsDF[allLogsDF[\"entities\"] != \"\"]\n",
    "#intentsDF = intentsDF[intentsDF['intent'] !=''] # Remove blanks, usually VGW tags + greetings\n",
    "entityDF[\"entities\"].iloc[50]"
   ]
  },
  {
   "cell_type": "code",
   "execution_count": null,
   "metadata": {},
   "outputs": [],
   "source": [
    "# ax = sns.lineplot(x=\"week\", y=\"conversations\", data=trendDF,label='',sort=False).set_title('Weekly Conversations')"
   ]
  },
  {
   "cell_type": "markdown",
   "metadata": {},
   "source": [
    "### 2.1.7 Optional: Bilingual Assistants <a class=\"anchor\" id=\"bilingual-assistants\"></a>\n",
    "For assistants that use a single skill for two different languages. The skill may set a context variable (e.g. `$language==\"english\"`) and then respond accordingly based on this variable. This cell will count the unique conversation_ids that have a given context variable.\n",
    "- **Action Required:** Define the `languageVar` that your skill uses to identify the language used to respond to the user."
   ]
  },
  {
   "cell_type": "code",
   "execution_count": null,
   "metadata": {},
   "outputs": [],
   "source": [
    "languageVar = 'language' # define the context variable that you retrieved above in customFields\n",
    "\n",
    "languageDF = allLogsDF.groupby([languageVar])[\"conversation_id\"].nunique()\n",
    "languageDF = turn_dict_to_df(languageDF, ['Context Var', 'Count'])\n",
    "languageDF = languageDF[languageDF['Context Var'] != '']\n",
    "languageDF"
   ]
  },
  {
   "cell_type": "markdown",
   "metadata": {},
   "source": [
    "## 2.2 Voice Interaction Metrics <a class=\"anchor\" id=\"voice-metrics\"></a>\n",
    "These metrics are for Voice Agent solutions. We start with volume metrics."
   ]
  },
  {
   "cell_type": "code",
   "execution_count": null,
   "metadata": {},
   "outputs": [],
   "source": [
    "uniqueCallers = allLogsDF['vgwSIPFromURI'].unique()\n",
    "uniqueCalls = allLogsDF['vgwSessionID'].unique()\n",
    "\n",
    "print(\"Total phone calls:\", len(uniqueCalls)) # It will print '1' if there are no calls found in the logs\n",
    "print(\"Total unique callers:\", len(uniqueCallers))\n",
    "print(\"Average messages per call:\", int(len(allLogsDF) / len(uniqueCalls)))"
   ]
  },
  {
   "cell_type": "code",
   "execution_count": null,
   "metadata": {},
   "outputs": [],
   "source": [
    "# Filters out blank inputs and vgwHangUp tags in log events\n",
    "filteredLogsDF = allLogsDF[allLogsDF['input.text'] != \"\"]\n",
    "filteredLogsDF = filteredLogsDF[filteredLogsDF['input.text'] != 'vgwHangUp'] \n",
    "filteredLogsDF = filteredLogsDF[filteredLogsDF['input.text'] != 'vgwPostResponseTimeout'] "
   ]
  },
  {
   "cell_type": "markdown",
   "metadata": {},
   "source": [
    "### 2.2.1 Containment Rate <a class=\"anchor\" id=\"containment-rate\"></a>\n",
    "How many call transfers did the voice solution perform?"
   ]
  },
  {
   "cell_type": "code",
   "execution_count": null,
   "metadata": {},
   "outputs": [],
   "source": [
    "transfersDF = allLogsDF.groupby([\"output.vgwAction.parameters.transferTarget\"])[\"vgwSessionID\"].count()\n",
    "transfersDF = turn_dict_to_df(transfersDF, ['TransferTo', 'Count'])\n",
    "transfersDF = transfersDF[transfersDF['TransferTo'] != '']\n",
    "\n",
    "print('Call transfer count:', transfersDF['Count'].sum()) \n",
    "containmentRate = 1 - transfersDF['Count'].sum() / len(uniqueCalls)\n",
    "print('Call containment rate:', '{:.0%}'.format(containmentRate))\n",
    "metrics_dict['callTransfers'] = [transfersDF['Count'].sum()] # Put into metrics dict\n",
    "metrics_dict['containment'] = [containmentRate] # Put into metrics dict\n",
    "transfersDF.sort_values('Count',ascending=False)"
   ]
  },
  {
   "cell_type": "markdown",
   "metadata": {},
   "source": [
    "### 2.2.2 Active Callers <a class=\"anchor\" id=\"active-callers\"></a>\n",
    "How many unique caller IDs dialed into the voice solution?"
   ]
  },
  {
   "cell_type": "code",
   "execution_count": null,
   "metadata": {},
   "outputs": [],
   "source": [
    "callsDF = allLogsDF.groupby(['vgwSIPFromURI'])['vgwSessionID'].nunique()\n",
    "callsDF = pd.DataFrame.from_dict(callsDF)\n",
    "callsDF.reset_index(level=0, inplace=True)\n",
    "callsDF.columns = ['Caller ID', 'Call Count']\n",
    "print('Total unique caller IDs:', len(callsDF))\n",
    "callsDF.head().sort_values('Call Count',ascending=False)\n",
    "metrics_dict['callerIDs'] = [len(callsDF)] # Put into metrics dict"
   ]
  },
  {
   "cell_type": "markdown",
   "metadata": {},
   "source": [
    "### 2.2.3 SMS Sent <a class=\"anchor\" id=\"sms-sent\"></a>\n",
    "A text message can be sent to the caller and can be initiated from within the Watson Assistant JSON editor. This will count the number of SMS sent."
   ]
  },
  {
   "cell_type": "code",
   "execution_count": null,
   "metadata": {},
   "outputs": [],
   "source": [
    "smsDF = allLogsDF[allLogsDF['vgwSMSUserPhoneNumber'] != '']\n",
    "metrics_dict['sms'] = [len(smsDF)] # Put into metrics dict\n",
    "print('Total SMS sent to callers: {}'.format(len(smsDF)))"
   ]
  },
  {
   "cell_type": "markdown",
   "metadata": {},
   "source": [
    "## 2.3 Custom Metrics <a class=\"anchor\" id=\"custom-metrics\"></a>\n",
    "This section is optional and can be used to create custom metrics. It will require the basic knowledge of Python and Pandas. Two examples of custom metrics included below can be modified, or additional metrics can be added here. **Jump to section 2.4 if you do not wish to build custom metrics.**"
   ]
  },
  {
   "cell_type": "markdown",
   "metadata": {},
   "source": [
    "### 2.3.1 Context Variable Count <a class=\"anchor\" id=\"context-variable-count\"></a>\n",
    "Some use cases require the use of context variables in order to track user inputs. For one customer, the assistant asks a series of questions in order to screen the patient. This section will identify based on context variables from within the `user_record` array. "
   ]
  },
  {
   "cell_type": "code",
   "execution_count": null,
   "metadata": {},
   "outputs": [],
   "source": [
    "Q1 = allLogsDF.groupby([\"user_record.calling_about_child\"])[\"conversation_id\"].nunique()\n",
    "Q1 = turn_dict_to_df(Q1, ['Yes/No', 'Count'])\n",
    "Q1['Question'] = 'Q1'\n",
    "Q1 = Q1[Q1['Yes/No'] != '']"
   ]
  },
  {
   "cell_type": "code",
   "execution_count": null,
   "metadata": {},
   "outputs": [],
   "source": [
    "Q2 = allLogsDF.groupby([\"user_record.covidExposure\"])[\"conversation_id\"].nunique()\n",
    "Q2 = turn_dict_to_df(Q2, ['Yes/No', 'Count'])\n",
    "Q2['Question'] = 'Q2'\n",
    "Q2 = Q2[Q2['Yes/No'] != '']"
   ]
  },
  {
   "cell_type": "code",
   "execution_count": null,
   "metadata": {},
   "outputs": [],
   "source": [
    "Q3 = allLogsDF.groupby([\"user_record.covidSymptoms\"])[\"conversation_id\"].nunique()\n",
    "Q3 = turn_dict_to_df(Q3, ['Yes/No', 'Count'])\n",
    "Q3['Question'] = 'Q3'\n",
    "Q3 = Q3[Q3['Yes/No'] != '']"
   ]
  },
  {
   "cell_type": "code",
   "execution_count": null,
   "metadata": {},
   "outputs": [],
   "source": [
    "customVarDF = pd.concat([Q1,Q2,Q3]).reset_index(level=0,drop=True)\n",
    "customVarDF.to_csv(custName+'_ScreeningCount.csv',index=None)\n",
    "project.save_data(file_name = custName + \"_ScreeningCount.csv\",data = customVarDF.to_csv(index=False),overwrite=True) # This saves in COS. Comment out if running locally\n",
    "customVarDF"
   ]
  },
  {
   "cell_type": "markdown",
   "metadata": {},
   "source": [
    "### 2.3.2 Response Mentions <a class=\"anchor\" id=\"response-mentions\"></a>\n",
    "A specific customer wanted to identify all mentions of `311` in the responses to users. "
   ]
  },
  {
   "cell_type": "code",
   "execution_count": null,
   "metadata": {},
   "outputs": [],
   "source": [
    "helpDF = allLogsDF[(allLogsDF['output.text'].str.contains('311')) | (allLogsDF['output.text'].str.contains('3-1-1'))] \n",
    "print('Total 3-1-1 response mentions:', len(helpDF))"
   ]
  },
  {
   "cell_type": "code",
   "execution_count": null,
   "metadata": {},
   "outputs": [],
   "source": [
    "newDF = pd.DataFrame(calculate_weekly_conversations(helpDF, week_offset))\n",
    "newDF"
   ]
  },
  {
   "cell_type": "code",
   "execution_count": null,
   "metadata": {},
   "outputs": [],
   "source": [
    "# ax = sns.barplot(x=\"week\", y=\"messages\", data=newDF,orient='v', palette=\"Blues_d\")"
   ]
  },
  {
   "cell_type": "markdown",
   "metadata": {},
   "source": [
    "## 2.4 Export to CSV <a class=\"anchor\" id=\"export-to-csv\"></a>\n",
    "Save important metrics and data from Pandas dataframes to CSV for use in Cognos Analytics dashboards and for deeper data exploration. The three CSV files will be saved to your Assets folder in your Watson Studio project. The files can be used to build visualizations in Cognos Dashboard.\n",
    "### 2.4.1 Save all logs to CSV"
   ]
  },
  {
   "cell_type": "code",
   "execution_count": null,
   "metadata": {},
   "outputs": [],
   "source": [
    "# allLogsDF.to_csv(custName+'_logs.csv',index=False) # This saves if running notebook locally. Comment out for Studio. \n",
    "print('Saving metrics to {}'.format(custName+ \"_logs.csv\"))\n",
    "project.save_data(file_name = custName + \"_logs.csv\",data = allLogsDF.to_csv(index=False),overwrite=True) # This saves in COS. Comment out if running locally"
   ]
  },
  {
   "cell_type": "markdown",
   "metadata": {},
   "source": [
    "### 2.4.2 Save KPIs to CSV"
   ]
  },
  {
   "cell_type": "code",
   "execution_count": null,
   "metadata": {},
   "outputs": [],
   "source": [
    "metricsDF = pd.DataFrame(metrics_dict)\n",
    "# metricsDF.to_csv(custName + \"_KeyMetrics.csv\",index=False) # This saves if running notebook locally. Comment out for Studio. \n",
    "project.save_data(file_name = custName + \"_KeyMetrics.csv\",data = metricsDF.to_csv(index=False),overwrite=True); # This saves in COS. Comment out if running locally\n",
    "print('Saving key metrics to {}'.format(custName+ \"_KeyMetrics.csv\"))\n",
    "metricsDF"
   ]
  },
  {
   "cell_type": "markdown",
   "metadata": {},
   "source": [
    "### 2.4.3 Save uncovered messages to CSV\n",
    "Improve Coverage by analyzing these uncovered messages. This might require adding training data to Intents or customizing STT models."
   ]
  },
  {
   "cell_type": "code",
   "execution_count": null,
   "metadata": {},
   "outputs": [],
   "source": [
    "print('\\nSaved', len(uncoveredDF), 'messages to:', custName + \"_uncovered_msgs.csv\")\n",
    "\n",
    "project.save_data(file_name = custName + \"_uncovered_msgs.csv\",data = uncoveredDF.to_csv(index=False),overwrite=True); # This saves in COS. Comment out if running locally"
   ]
  },
  {
   "cell_type": "markdown",
   "metadata": {},
   "source": [
    "## 3.0 Collecting data for blind testing or new ground truth <a class=\"anchor\" id=\"blind-testing\"></a>\n",
    "This section is **optional** for those wishing to perform blind testing on user data. Whether we want to assess the performance of our classifier via a blind test or gather new ground truth training data we need a quick way to extract what our users are saying to open-ended questions.  There are multiple ways to extract these utterances depending on the type of assistant.\n",
    "\n",
    "Regardless of method the general recipe is:\n",
    "\n",
    "1. Extract user utterances and intents assigned by Watson Assistant\n",
    "2. Use SMEs to provide the actual intent of each utterance\n",
    "3. Assess test performance and update training (ie, via [Dialog Skill Analysis notebook](https://medium.com/ibm-watson/announcing-dialog-skill-analysis-for-watson-assistant-83cdfb968178))\n"
   ]
  },
  {
   "cell_type": "markdown",
   "metadata": {},
   "source": [
    "### 3.1 Gathering initial user responses via hardcoded dialog turn number\n",
    "For a single-skill assistant we can use the `dialog_turn_counter` field to extract utterances on a given turn.  This field uses a 1-based index, ie the first turn is index=1. (Python generally assumes a 0-based index).\n",
    "\n",
    "If the user speaks first, search on USER_FIRST_TURN_COUNTER=1.  If the assistant speaks first, use USER_FIRST_TURN_COUNTER=2\n"
   ]
  },
  {
   "cell_type": "code",
   "execution_count": null,
   "metadata": {},
   "outputs": [],
   "source": [
    "USER_FIRST_TURN_COUNTER=2\n",
    "userFirstTurnView = filteredLogsDF[filteredLogsDF['dialog_turn_counter']==USER_FIRST_TURN_COUNTER]\n",
    "userFirstTurnDF = userFirstTurnView[[\"input.text\",\"intent\",\"intent_confidence\"]]\n",
    "\n",
    "userFirstTurnDF.head()"
   ]
  },
  {
   "cell_type": "markdown",
   "metadata": {},
   "source": [
    "### 3.2 Write out the user utterances to a file\n",
    "Dataframes are easily exported to a comma-separated file which is easily imported into Excel and other tools.\n",
    "For a blind test you need at the user utterance and the predicted intent.\n",
    "When you have SMEs review the intents you should mindfully select one of these two options:\n",
    "\n",
    "1. Include the predicted intent and let the SME make corrections.  This is the fastest approach but may bias the SMEs towards what was already predicted.\n",
    "2. Remove the predicted intent.  This is more time-consuming for SMEs but generates unbiased labels.\n",
    "\n",
    "This file-writing code can be used with any of the \"gather response patterns\" in this notebook."
   ]
  },
  {
   "cell_type": "code",
   "execution_count": null,
   "metadata": {},
   "outputs": [],
   "source": [
    "# Uncomment ONE of the patterns\n",
    "# Pattern 1: Write out all utterances and predictions\n",
    "userFirstTurnDF.to_csv(custName+\"_utterances.csv\",index=False,header=[\"Utterance\",\"Predicted Intent\", \"Prediction Confidence\"])\n",
    "\n",
    "#Pattern 2: Write only the user utterance\n",
    "# userFirstTurnDF = userFirstTurnView[[\"input.text\"]]\n",
    "# userFirstTurnDF.to_csv(\"utterances2.csv\",index=False,header=[\"Utterance\"])"
   ]
  },
  {
   "cell_type": "markdown",
   "metadata": {},
   "source": [
    "### End of Notebook v1.3 (last modified on 5-22-20)"
   ]
  },
  {
   "cell_type": "code",
   "execution_count": null,
   "metadata": {},
   "outputs": [],
   "source": []
  }
 ],
 "metadata": {
  "kernelspec": {
   "display_name": "Python 3",
   "language": "python",
   "name": "python3"
  },
  "language_info": {
   "codemirror_mode": {
    "name": "ipython",
    "version": 3
   },
   "file_extension": ".py",
   "mimetype": "text/x-python",
   "name": "python",
   "nbconvert_exporter": "python",
   "pygments_lexer": "ipython3",
   "version": "3.7.6"
  }
 },
 "nbformat": 4,
 "nbformat_minor": 2
}
